{
 "cells": [
  {
   "cell_type": "raw",
   "id": "f0e7cc7e-67fc-4c21-8c01-2ef062313d52",
   "metadata": {},
   "source": [
    "# Write a function that takes input as an integer number and prints the closest prime integer to that number.\n",
    "The closest prime can be greater or similar than the passed input integer. \n",
    "if there are equi-distant prime numbers, print both\n",
    "EX:\n",
    "input:32\n",
    "output:31\n",
    "input:30\n",
    "output:29,31"
   ]
  },
  {
   "cell_type": "code",
   "execution_count": 46,
   "id": "cf08796b-4a84-4dc5-af77-c68413865519",
   "metadata": {},
   "outputs": [
    {
     "name": "stdin",
     "output_type": "stream",
     "text": [
      "Enter an integer:  39\n"
     ]
    },
    {
     "name": "stdout",
     "output_type": "stream",
     "text": [
      "37 41\n"
     ]
    }
   ],
   "source": [
    "def is_prime(num):\n",
    "    if num < 2:\n",
    "        return False\n",
    "    for i in range(2, int(num**0.5) + 1):\n",
    "        if num % i == 0:\n",
    "            return False\n",
    "    return True\n",
    "\n",
    "def find_closest_primes(n):\n",
    "    # Find the closest prime before n\n",
    "    beforenum = 0\n",
    "    for i in range(n - 1, 1, -1):\n",
    "        if is_prime(i):\n",
    "            beforenum = i\n",
    "            break\n",
    "\n",
    "    # Find the closest prime after n\n",
    "    afternum = 0\n",
    "    for i in range(n + 1, n * n, 1):\n",
    "        if is_prime(i):\n",
    "            afternum = i\n",
    "            break\n",
    "\n",
    "    # Print the results\n",
    "    if (n - beforenum) == (afternum - n):\n",
    "        print(beforenum, afternum)\n",
    "    elif (n - beforenum) < (afternum - n):\n",
    "        print(beforenum)\n",
    "    elif (n - beforenum) > (afternum - n):\n",
    "        print(afternum)\n",
    "\n",
    "# Example usage\n",
    "try:\n",
    "    n = int(input(\"Enter an integer: \"))\n",
    "    find_closest_primes(n)\n",
    "except ValueError:\n",
    "    print(\"Invalid input. Please enter a valid integer.\")"
   ]
  },
  {
   "cell_type": "raw",
   "id": "5300dceb-97f0-4fe8-8e87-a19f6a4b94e9",
   "metadata": {},
   "source": [
    "Write function that takes input as string.\n",
    "it should return true if all characterscin string are unique, false otherwise. You cannot use additional data structure.(a-z and 1-9. No unicode/special character/uppercase characters)"
   ]
  },
  {
   "cell_type": "code",
   "execution_count": 50,
   "id": "b1108daa-aa94-4f71-97de-55f7f7187868",
   "metadata": {},
   "outputs": [
    {
     "name": "stdin",
     "output_type": "stream",
     "text": [
      "Enter string abc\n"
     ]
    },
    {
     "name": "stdout",
     "output_type": "stream",
     "text": [
      "True\n"
     ]
    }
   ],
   "source": [
    "str1 = input(\"Enter string\")\n",
    "def unique(str1):\n",
    "    flag = True\n",
    "    for i in range(0,len(str1)):\n",
    "        for j in range(i+1, len(str1)):\n",
    "            if str1[i] == str1[j]:\n",
    "                return False\n",
    "    return flag\n",
    "print(unique(str1))"
   ]
  },
  {
   "cell_type": "raw",
   "id": "dc53d1b6-6d79-4e06-acf0-4214580afaac",
   "metadata": {},
   "source": [
    "write a function to print the angle between hour hand and minute hand in an analog clock at any given time. please print the lesser of angle\n"
   ]
  },
  {
   "cell_type": "code",
   "execution_count": 62,
   "id": "801c2df3-ffc6-4c82-83ef-1c860158503a",
   "metadata": {},
   "outputs": [
    {
     "name": "stdin",
     "output_type": "stream",
     "text": [
      "Enter hh and mm bye comma separate 3,50\n"
     ]
    },
    {
     "name": "stdout",
     "output_type": "stream",
     "text": [
      "185.0\n"
     ]
    }
   ],
   "source": [
    "def getAngle(hh, mm):\n",
    "    angle = 0\n",
    "    angle = abs((30 * hh + 0.5 * mm) - (6 * mm))\n",
    "    return angle\n",
    "\n",
    "hh,mm = map(int,input(\"Enter hh and mm bye comma separate\").split(\",\"))\n",
    "print(getAngle(hh,mm))"
   ]
  },
  {
   "cell_type": "raw",
   "id": "55b57149-4221-4ff6-8eb4-0b0fc93065ec",
   "metadata": {},
   "source": [
    "Write a function that takes array of numbers as input and prints numbers that have ramainder of 3 when divided by 7"
   ]
  },
  {
   "cell_type": "code",
   "execution_count": 67,
   "id": "a008fc40-5b01-4833-9c84-0b1e3dd694ec",
   "metadata": {},
   "outputs": [
    {
     "name": "stdin",
     "output_type": "stream",
     "text": [
      "Enter no of array: 7,3\n"
     ]
    },
    {
     "name": "stdout",
     "output_type": "stream",
     "text": [
      "3 "
     ]
    }
   ],
   "source": [
    "def remaindernum(num):\n",
    "    for i in num:\n",
    "        if i % 7 == 3:\n",
    "            print(i,end = \" \")\n",
    "num = list(map(int,input(\"Enter no of array:\").split(',')))\n",
    "\n",
    "remaindernum(num)"
   ]
  },
  {
   "cell_type": "raw",
   "id": "e26350e5-65e3-4028-b219-d97361902636",
   "metadata": {},
   "source": [
    "Fibonacci Sequence is constructed by adding the last two numbers of the sequence so far to get the next number in the sequence. The first and second no.s of the sequenceare defined as 0 and 1 we get\n",
    "Write function which takes input as no\n",
    "if the given no is fibonacci no, print the number\n",
    "if the given no is not fibonacci no, print sum of all even fibonacci no less than given no\n"
   ]
  },
  {
   "cell_type": "code",
   "execution_count": 78,
   "id": "446bcb30-b0a1-46c6-be01-d8547058c059",
   "metadata": {},
   "outputs": [
    {
     "name": "stdin",
     "output_type": "stream",
     "text": [
      " 21\n"
     ]
    },
    {
     "name": "stdout",
     "output_type": "stream",
     "text": [
      "0\n",
      "1\n",
      "21\n",
      "10\n"
     ]
    }
   ],
   "source": [
    "a = 0 \n",
    "b = 1\n",
    "sumeven = 0\n",
    "n = int(input())\n",
    "print(a)\n",
    "print(b)\n",
    "for i in range(2,n):\n",
    "    sum = a + b\n",
    "    a = b\n",
    "    b = sum\n",
    "    if n == sum:\n",
    "        print(n)\n",
    "    else :\n",
    "        if sum % 2 == 0 and sum < n:\n",
    "            sumeven=sumeven+ sum\n",
    "print(sumeven)"
   ]
  }
 ],
 "metadata": {
  "kernelspec": {
   "display_name": "Python 3 (ipykernel)",
   "language": "python",
   "name": "python3"
  },
  "language_info": {
   "codemirror_mode": {
    "name": "ipython",
    "version": 3
   },
   "file_extension": ".py",
   "mimetype": "text/x-python",
   "name": "python",
   "nbconvert_exporter": "python",
   "pygments_lexer": "ipython3",
   "version": "3.11.7"
  },
  "widgets": {
   "application/vnd.jupyter.widget-state+json": {
    "state": {},
    "version_major": 2,
    "version_minor": 0
   }
  }
 },
 "nbformat": 4,
 "nbformat_minor": 5
}
